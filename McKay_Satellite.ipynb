{
  "nbformat": 4,
  "nbformat_minor": 0,
  "metadata": {
    "colab": {
      "name": "McKay_Satellite",
      "provenance": [],
      "collapsed_sections": [],
      "include_colab_link": true
    },
    "kernelspec": {
      "name": "python3",
      "display_name": "Python 3"
    },
    "accelerator": "GPU"
  },
  "cells": [
    {
      "cell_type": "markdown",
      "metadata": {
        "id": "view-in-github",
        "colab_type": "text"
      },
      "source": [
        "<a href=\"https://colab.research.google.com/github/JohnMcKay/Road_Image_Classification/blob/master/McKay_Satellite.ipynb\" target=\"_parent\"><img src=\"https://colab.research.google.com/assets/colab-badge.svg\" alt=\"Open In Colab\"/></a>"
      ]
    },
    {
      "cell_type": "code",
      "metadata": {
        "id": "pV2lcamw9RRn",
        "colab_type": "code",
        "colab": {}
      },
      "source": [
        "# System Imports\n",
        "import os\n",
        "import sys\n",
        "from google.colab import drive  # to mount directory with .shp data\n",
        "\n",
        "# 3rd Party Imports\n",
        "import numpy as np\n",
        "import tensorflow as tf\n",
        "import scipy as sp\n",
        "import h5py\n",
        "import cv2\n",
        "import matplotlib.pyplot as plt\n",
        "import tqdm as tqdm\n",
        "from sklearn.manifold import TSNE"
      ],
      "execution_count": 0,
      "outputs": []
    },
    {
      "cell_type": "code",
      "metadata": {
        "id": "fPGgndwj-yCU",
        "colab_type": "code",
        "outputId": "0984318a-a494-4d8d-eda9-d25f9f3e9d16",
        "colab": {
          "base_uri": "https://localhost:8080/",
          "height": 33
        }
      },
      "source": [
        "drive.mount('/content/drive/')  # saved data location"
      ],
      "execution_count": 0,
      "outputs": [
        {
          "output_type": "stream",
          "text": [
            "Drive already mounted at /content/drive/; to attempt to forcibly remount, call drive.mount(\"/content/drive/\", force_remount=True).\n"
          ],
          "name": "stdout"
        }
      ]
    },
    {
      "cell_type": "code",
      "metadata": {
        "id": "G2Rs_WOF-dVt",
        "colab_type": "code",
        "colab": {}
      },
      "source": [
        "# Globals\n",
        "BATCH_SIZE = 64\n",
        "EPOCHS = 15\n",
        "DATA_PATH = '/content/drive/My Drive/sat_data/'  # has labels\n",
        "IMAGE_PATH = os.path.join(DATA_PATH, 'image_tiles/')  # has images"
      ],
      "execution_count": 0,
      "outputs": []
    },
    {
      "cell_type": "code",
      "metadata": {
        "id": "-cn8xhaq9UNr",
        "colab_type": "code",
        "colab": {}
      },
      "source": [
        "# Definitions\n",
        "\n",
        "# Keras Generators for Imagery\n",
        "class Generator(tf.keras.utils.Sequence):\n",
        "\tdef __init__(self, imNames, imLabels, batch_size, path_to_images, multi_task=False ):\n",
        "\t\tself.imNames = imNames\n",
        "\t\tself.path = path_to_images\n",
        "\t\tself.imLabels = imLabels\n",
        "\t\tself.batchSize = batch_size\n",
        "\t\tself.numIms = len(self.imNames)\n",
        "\t\tself.numSteps = self.numIms // batch_size\n",
        "\t\tif self.numIms % batch_size == 0:\n",
        "\t\t\tself.numSteps -= 1\n",
        "\t\t#\n",
        "\t\tself.n = 0\n",
        "\t\tself._multi_task = multi_task\n",
        "\t#\n",
        "\tdef __len__(self):\n",
        "\t\treturn self.numSteps\n",
        "\t#\n",
        "\tdef steps_per_epoch(self):\n",
        "\t\treturn self.numSteps\n",
        "\t#\n",
        "\tdef __getitem__(self, index):\n",
        "\t\tbatchSize = self.batchSize\n",
        "\t\tif index != self.numSteps:\n",
        "\t\t\tnames = self.imNames[batchSize * index:batchSize * (index + 1)]\n",
        "\t\t\tlabs = self.imLabels[batchSize * index:batchSize * (index + 1)]\n",
        "\t\telse:\n",
        "\t\t\tnames = self.imNames[batchSize * index:]\n",
        "\t\t\tlabs = self.imLabels[batchSize * index:]\n",
        "\t\tims = []\n",
        "\t\tfor i, n in enumerate(names):\n",
        "\t\t\ttemp = cv2.imread(os.path.join(self.path, n))#\n",
        "\t\t\ttemp = temp.astype('float32')\n",
        "\t\t\ttemp -= temp.min()\n",
        "\t\t\ttemp /= temp.max()\n",
        "\t\t\tims.append(temp)\n",
        "\t\t\t# ims.append(np.flipud(temp))\n",
        "\t\t#\n",
        "\t\tims = np.array(ims)\n",
        "\t\tif self._multi_task:\n",
        "\t\t\ttemp = 1 - labs[:, 0] * 1.0\n",
        "\t\t\treturn ims, {'a':labs, 'b':ims, 'c':temp}\n",
        "\t\treturn ims, labs\n",
        "\t#\n",
        "#"
      ],
      "execution_count": 0,
      "outputs": []
    },
    {
      "cell_type": "code",
      "metadata": {
        "id": "sGvByDtk9jS1",
        "colab_type": "code",
        "colab": {}
      },
      "source": [
        "# ++++++++++++++++++++++++++++++++++++++++++++++++++++++++++++++++++++++++++++++++++++++++++++++++++\n",
        "# Load Data\n",
        "# ++++++++++++++++++++++++++++++++++++++++++++++++++++++++++++++++++++++++++++++++++++++++++++++++++\n",
        "\n",
        "# Prepare data info\n",
        "dataInfo = np.load(os.path.join(DATA_PATH, 'tileInfo.npy'))\n",
        "\n",
        "# Get unique road labels\n",
        "# https://stackoverflow.com/questions/952914/how-to-make-a-flat-list-out-of-list-of-lists\n",
        "flatten = lambda l: [item for sublist in l for item in sublist]\n",
        "undoLabels =  flatten([x[2].split('_') for x in dataInfo])\n",
        "roadTypes = np.unique(undoLabels)\n",
        "# Fix labels\n",
        "roadTypes[0] = 'X'\n",
        "# Note: there is only one case of 'T' so we throw it out\n",
        "roadTypes = np.delete(roadTypes, -2)\n",
        "numRoadTypes = len(roadTypes)\n",
        "\n",
        "# Shuffle data entries\n",
        "trainIndex = np.random.permutation(len(dataInfo))\n",
        "dataInfo = dataInfo[trainIndex]\n",
        "\n",
        "# Restate labels with categorical markers\n",
        "strLabels = [x[2] if '' != x[2] else 'X' for x in dataInfo]  # handle empty\n",
        "catLabels = np.array([[x.count(i) for i in roadTypes] for x in strLabels])  # categorical labels\n",
        "\n",
        "# Set Training, Testing Parameters\n",
        "trainPct = 0.75\n",
        "testPct = 1 - trainPct\n",
        "trainN = int(trainPct * len(dataInfo))\n",
        "testN = int(testPct * len(dataInfo)) "
      ],
      "execution_count": 0,
      "outputs": []
    },
    {
      "cell_type": "code",
      "metadata": {
        "id": "zVW378a894PX",
        "colab_type": "code",
        "colab": {}
      },
      "source": [
        "# Define Generators\n",
        "allNames = [x[0] for x in dataInfo]  # isolates names\n",
        "trainNames = [allNames[n] for n in range(trainN)]  # names for training\n",
        "testNames = [allNames[n] for n in range(trainN, trainN + testN)]  # names for testing\n",
        "trainGenerator = Generator(trainNames, catLabels[:trainN], BATCH_SIZE, IMAGE_PATH, multi_task=False)\n",
        "testGenerator = Generator(testNames, catLabels[trainN:trainN + testN], BATCH_SIZE, IMAGE_PATH, multi_task=False)"
      ],
      "execution_count": 0,
      "outputs": []
    },
    {
      "cell_type": "code",
      "metadata": {
        "id": "2xH4Mpye_GUw",
        "colab_type": "code",
        "outputId": "990e90a2-4f71-4cbf-8b13-a071031c2a5d",
        "colab": {
          "base_uri": "https://localhost:8080/",
          "height": 849
        }
      },
      "source": [
        "# ++++++++++++++++++++++++++++++++++++++++++++++++++++++++++++++++++++++++++++++++++++++++++++++++++\n",
        "# Model 1: Simple Network\n",
        "# ++++++++++++++++++++++++++++++++++++++++++++++++++++++++++++++++++++++++++++++++++++++++++++++++++\n",
        "\n",
        "# mobilenet = tf.keras.applications.mobilenet_v2.MobileNetV2(input_shape=(256, 256, 3), \n",
        "#                                               include_top=True, \n",
        "#                                               weights=None, \n",
        "#                                               classes=numRoadTypes)\n",
        "# inputLayer = tf.keras.layers.Input(shape=(256, 256, 3), dtype='uint8')\n",
        "# lay = tf.keras.layers.Lambda(lambda x:tf.cast(x, tf.float32) / 255.0)(inputLayer)\n",
        "# lay = mobilenet(lay)\n",
        "# mnet = tf.keras.Model(inputLayer, lay)\n",
        "# mnet.compile(loss='categorical_crossentropy',\n",
        "#              optimizer=tf.keras.optimizers.Adam(lr=1e-6), \n",
        "#              metrics=['accuracy'])\n",
        "inputLayer = tf.keras.Input(shape=(256, 256, 3))\n",
        "mnet = tf.keras.layers.Conv2D(4, (3, 3), activation='relu', padding='same', kernel_initializer=tf.keras.initializers.he_normal())(inputLayer)\n",
        "pix5 = tf.keras.layers.Conv2D(4, (3, 3), activation='relu', padding='same', kernel_initializer=tf.keras.initializers.he_normal())(mnet)\n",
        "mnet = tf.keras.layers.MaxPool2D()(mnet)\n",
        "mnet = tf.keras.layers.Conv2D(8, (3, 3), activation='relu', padding='same', kernel_initializer=tf.keras.initializers.he_normal())(mnet)\n",
        "pix4 = tf.keras.layers.Conv2D(8, (3, 3), activation='relu', padding='same', kernel_initializer=tf.keras.initializers.he_normal())(mnet)\n",
        "mnet = tf.keras.layers.MaxPool2D()(mnet)\n",
        "mnet = tf.keras.layers.Conv2D(16, (3, 3), activation='relu', padding='same', kernel_initializer=tf.keras.initializers.he_normal())(mnet)\n",
        "pix3 = tf.keras.layers.Conv2D(16, (3, 3), activation='relu', padding='same', kernel_initializer=tf.keras.initializers.he_normal())(mnet)\n",
        "mnet = tf.keras.layers.MaxPool2D()(mnet)\n",
        "mnet = tf.keras.layers.Conv2D(32, (3, 3), activation='relu', padding='same', kernel_initializer=tf.keras.initializers.he_normal())(mnet)\n",
        "pix2 = tf.keras.layers.Conv2D(32, (3, 3), activation='relu', padding='same', kernel_initializer=tf.keras.initializers.he_normal())(mnet)\n",
        "mnet = tf.keras.layers.MaxPool2D()(mnet)\n",
        "mnet = tf.keras.layers.Conv2D(64, (3, 3), activation='relu', padding='same', kernel_initializer=tf.keras.initializers.he_normal())(mnet)\n",
        "pix1 = tf.keras.layers.Conv2D(64, (3, 3), activation='relu', padding='same', kernel_initializer=tf.keras.initializers.he_normal())(mnet)\n",
        "mnet = tf.keras.layers.Flatten()(pix1)\n",
        "mnet = tf.keras.layers.Dense(64, activation='relu')(mnet)\n",
        "pix0 = tf.keras.layers.Dense(64, activation='relu')(mnet)\n",
        "mnet = tf.keras.layers.Dense(numRoadTypes, activation='sigmoid')(pix0)\n",
        "mnet = tf.keras.models.Model(inputs=inputLayer, outputs=mnet)\n",
        "mnet.compile(loss='categorical_crossentropy',\n",
        "              optimizer=tf.keras.optimizers.Adam(lr=1e-3, decay = 1/100), \n",
        "              metrics=['accuracy'])\n",
        "mnet_history = mnet.fit_generator(generator=trainGenerator,\n",
        "                                  validation_data=testGenerator,\n",
        "                                  use_multiprocessing=True,\n",
        "                                  workers=4,\n",
        "                                  #class_weight={0:1/10, 1:1/5,2:1,3:1,4:1},\n",
        "                                  epochs=EPOCHS)"
      ],
      "execution_count": 0,
      "outputs": [
        {
          "output_type": "stream",
          "text": [
            "Epoch 1/15\n",
            "116/117 [============================>.] - ETA: 0s - loss: 1.2910 - acc: 0.5878Epoch 1/15\n",
            "117/117 [==============================] - 85s 728ms/step - loss: 1.2896 - acc: 0.5888 - val_loss: 1.1254 - val_acc: 0.7284\n",
            "Epoch 2/15\n",
            "116/117 [============================>.] - ETA: 0s - loss: 1.0590 - acc: 0.7373Epoch 1/15\n",
            " 38/117 [========>.....................] - ETA: 53s - loss: 1.0246 - acc: 0.7385Epoch 1/15\n",
            "117/117 [==============================] - 79s 678ms/step - loss: 1.0559 - acc: 0.7377 - val_loss: 1.0232 - val_acc: 0.7396\n",
            "Epoch 3/15\n",
            "116/117 [============================>.] - ETA: 0s - loss: 0.9811 - acc: 0.7550Epoch 1/15\n",
            " 39/117 [=========>....................] - ETA: 50s - loss: 0.9960 - acc: 0.7572\n",
            "117/117 [==============================] - 85s 724ms/step - loss: 0.9817 - acc: 0.7551 - val_loss: 0.9960 - val_acc: 0.7572\n",
            "Epoch 4/15\n",
            "116/117 [============================>.] - ETA: 0s - loss: 0.9534 - acc: 0.7589Epoch 1/15\n",
            "117/117 [==============================] - 79s 672ms/step - loss: 0.9542 - acc: 0.7595 - val_loss: 0.9633 - val_acc: 0.7608\n",
            "\n",
            "Epoch 5/15\n",
            "116/117 [============================>.] - ETA: 0s - loss: 0.9106 - acc: 0.7683Epoch 1/15\n",
            " 38/117 [========>.....................] - ETA: 52s - loss: 0.9516 - acc: 0.7627Epoch 1/15\n",
            "117/117 [==============================] - 79s 675ms/step - loss: 0.9137 - acc: 0.7686 - val_loss: 0.9501 - val_acc: 0.7628\n",
            "Epoch 6/15\n",
            "116/117 [============================>.] - ETA: 0s - loss: 0.8730 - acc: 0.7810Epoch 1/15\n",
            "117/117 [==============================] - 79s 676ms/step - loss: 0.8760 - acc: 0.7798 - val_loss: 0.9575 - val_acc: 0.7552\n",
            "Epoch 7/15\n",
            "116/117 [============================>.] - ETA: 0s - loss: 0.8553 - acc: 0.7817Epoch 1/15\n",
            "117/117 [==============================] - 79s 671ms/step - loss: 0.8570 - acc: 0.7804 - val_loss: 0.9330 - val_acc: 0.7680\n",
            "Epoch 8/15\n",
            "116/117 [============================>.] - ETA: 0s - loss: 0.8263 - acc: 0.7897Epoch 1/15Epoch 1/15\n",
            "117/117 [==============================] - 78s 666ms/step - loss: 0.8241 - acc: 0.7899 - val_loss: 0.9441 - val_acc: 0.7696\n",
            "Epoch 9/15\n",
            "116/117 [============================>.] - ETA: 0s - loss: 0.7845 - acc: 0.7966Epoch 1/15\n",
            "117/117 [==============================] - 79s 674ms/step - loss: 0.7866 - acc: 0.7962 - val_loss: 0.9461 - val_acc: 0.7664\n",
            "Epoch 10/15\n",
            "116/117 [============================>.] - ETA: 0s - loss: 0.7568 - acc: 0.8020Epoch 1/15\n",
            "117/117 [==============================] - 79s 679ms/step - loss: 0.7586 - acc: 0.8018 - val_loss: 0.9466 - val_acc: 0.7648\n",
            "Epoch 11/15\n",
            "116/117 [============================>.] - ETA: 0s - loss: 0.7409 - acc: 0.8068Epoch 1/15\n",
            " 38/117 [========>.....................] - ETA: 52s - loss: 0.9755 - acc: 0.7648Epoch 1/15\n",
            "117/117 [==============================] - 84s 717ms/step - loss: 0.7408 - acc: 0.8068 - val_loss: 0.9752 - val_acc: 0.7660\n",
            "Epoch 12/15\n",
            "116/117 [============================>.] - ETA: 0s - loss: 0.7124 - acc: 0.8165Epoch 1/15\n",
            "117/117 [==============================] - 84s 714ms/step - loss: 0.7102 - acc: 0.8172 - val_loss: 0.9549 - val_acc: 0.7664\n",
            "Epoch 13/15\n",
            "116/117 [============================>.] - ETA: 0s - loss: 0.6866 - acc: 0.8256Epoch 1/15\n",
            "117/117 [==============================] - 78s 670ms/step - loss: 0.6864 - acc: 0.8257 - val_loss: 0.9870 - val_acc: 0.7696\n",
            "Epoch 14/15\n",
            "116/117 [============================>.] - ETA: 0s - loss: 0.6630 - acc: 0.8280Epoch 1/15\n",
            " 38/117 [========>.....................] - ETA: 52s - loss: 0.9659 - acc: 0.7533Epoch 1/15\n",
            "117/117 [==============================] - 79s 675ms/step - loss: 0.6622 - acc: 0.8281 - val_loss: 0.9639 - val_acc: 0.7544\n",
            "Epoch 15/15\n",
            "116/117 [============================>.] - ETA: 0s - loss: 0.6465 - acc: 0.8331Epoch 1/15\n",
            "117/117 [==============================] - 80s 680ms/step - loss: 0.6468 - acc: 0.8335 - val_loss: 0.9959 - val_acc: 0.7736\n"
          ],
          "name": "stdout"
        }
      ]
    },
    {
      "cell_type": "code",
      "metadata": {
        "id": "hRlmJtzRBZiO",
        "colab_type": "code",
        "outputId": "bb519299-d36f-4d7f-dfd6-bc66fb6f089d",
        "colab": {
          "base_uri": "https://localhost:8080/",
          "height": 224
        }
      },
      "source": [
        "# serialize model to JSON\n",
        "MNET_JSON = os.path.join(DATA_PATH, 'mnet_architecture.json')\n",
        "model_json = mnet.to_json()\n",
        "with open(MNET_JSON, \"w\") as json_file:\n",
        "    json_file.write(model_json)\n",
        "#\n",
        "MNET_WEIGHTS = os.path.join(DATA_PATH, 'mnet_weights.h5')\n",
        "mnet.save_weights(MNET_WEIGHTS)"
      ],
      "execution_count": 0,
      "outputs": [
        {
          "output_type": "error",
          "ename": "AttributeError",
          "evalue": "ignored",
          "traceback": [
            "\u001b[0;31m---------------------------------------------------------------------------\u001b[0m",
            "\u001b[0;31mAttributeError\u001b[0m                            Traceback (most recent call last)",
            "\u001b[0;32m<ipython-input-15-db35b391d190>\u001b[0m in \u001b[0;36m<module>\u001b[0;34m()\u001b[0m\n\u001b[1;32m      1\u001b[0m \u001b[0mMNET_JSON\u001b[0m \u001b[0;34m=\u001b[0m \u001b[0mos\u001b[0m\u001b[0;34m.\u001b[0m\u001b[0mpath\u001b[0m\u001b[0;34m.\u001b[0m\u001b[0mjoin\u001b[0m\u001b[0;34m(\u001b[0m\u001b[0mDATA_PATH\u001b[0m\u001b[0;34m,\u001b[0m \u001b[0;34m'mnet_architecture.json'\u001b[0m\u001b[0;34m)\u001b[0m\u001b[0;34m\u001b[0m\u001b[0;34m\u001b[0m\u001b[0m\n\u001b[0;32m----> 2\u001b[0;31m \u001b[0mmodel_json\u001b[0m \u001b[0;34m=\u001b[0m \u001b[0mmnet\u001b[0m\u001b[0;34m.\u001b[0m\u001b[0mto_json\u001b[0m\u001b[0;34m(\u001b[0m\u001b[0;34m)\u001b[0m\u001b[0;34m\u001b[0m\u001b[0;34m\u001b[0m\u001b[0m\n\u001b[0m\u001b[1;32m      3\u001b[0m \u001b[0;32mwith\u001b[0m \u001b[0mopen\u001b[0m\u001b[0;34m(\u001b[0m\u001b[0mMNET_JSON\u001b[0m\u001b[0;34m,\u001b[0m \u001b[0;34m\"w\"\u001b[0m\u001b[0;34m)\u001b[0m \u001b[0;32mas\u001b[0m \u001b[0mjson_file\u001b[0m\u001b[0;34m:\u001b[0m\u001b[0;34m\u001b[0m\u001b[0;34m\u001b[0m\u001b[0m\n\u001b[1;32m      4\u001b[0m     \u001b[0mjson_file\u001b[0m\u001b[0;34m.\u001b[0m\u001b[0mwrite\u001b[0m\u001b[0;34m(\u001b[0m\u001b[0mmodel_json\u001b[0m\u001b[0;34m)\u001b[0m\u001b[0;34m\u001b[0m\u001b[0;34m\u001b[0m\u001b[0m\n\u001b[1;32m      5\u001b[0m \u001b[0;31m#\u001b[0m\u001b[0;34m\u001b[0m\u001b[0;34m\u001b[0m\u001b[0;34m\u001b[0m\u001b[0m\n",
            "\u001b[0;31mAttributeError\u001b[0m: 'Tensor' object has no attribute 'to_json'"
          ]
        }
      ]
    },
    {
      "cell_type": "code",
      "metadata": {
        "id": "vy0A6LXxHqSV",
        "colab_type": "code",
        "outputId": "a2761e1b-a438-4cf2-a7ca-49770f3cb77a",
        "colab": {
          "base_uri": "https://localhost:8080/",
          "height": 33
        }
      },
      "source": [
        "pred= mnet.predict_generator(testGenerator, verbose=1)"
      ],
      "execution_count": 0,
      "outputs": [
        {
          "output_type": "stream",
          "text": [
            "39/39 [==============================] - 20s 508ms/step\n"
          ],
          "name": "stdout"
        }
      ]
    },
    {
      "cell_type": "code",
      "metadata": {
        "id": "D2ygPCQgJOJH",
        "colab_type": "code",
        "outputId": "9d61cc2b-60e1-4154-ac99-e12283c98af3",
        "colab": {
          "base_uri": "https://localhost:8080/",
          "height": 229
        }
      },
      "source": [
        "pred"
      ],
      "execution_count": 0,
      "outputs": [
        {
          "output_type": "execute_result",
          "data": {
            "text/plain": [
              "array([[2.7600825e-03, 7.3998052e-01, 7.4997544e-04, 2.5936484e-02,\n",
              "        7.7234685e-02],\n",
              "       [2.2026634e-01, 5.1943624e-01, 6.6832155e-02, 3.2718021e-01,\n",
              "        2.9691809e-01],\n",
              "       [2.0452738e-03, 9.2424130e-01, 4.0838420e-03, 2.8156519e-02,\n",
              "        8.3711147e-03],\n",
              "       ...,\n",
              "       [1.5457192e-01, 2.4987388e-01, 7.9054028e-02, 2.3537338e-02,\n",
              "        2.1994209e-01],\n",
              "       [5.9605390e-02, 7.9750776e-01, 6.1488003e-02, 1.4671111e-01,\n",
              "        1.1612466e-01],\n",
              "       [9.5657176e-01, 1.7732382e-05, 2.1904707e-05, 8.9406967e-08,\n",
              "        6.4054608e-02]], dtype=float32)"
            ]
          },
          "metadata": {
            "tags": []
          },
          "execution_count": 9
        }
      ]
    },
    {
      "cell_type": "code",
      "metadata": {
        "id": "oD7j6us-CZ0R",
        "colab_type": "code",
        "outputId": "7f8bceba-0039-4db7-89d2-9361b545ea77",
        "colab": {
          "base_uri": "https://localhost:8080/",
          "height": 787
        }
      },
      "source": [
        "# ++++++++++++++++++++++++++++++++++++++++++++++++++++++++++++++++++++++++++++++++++++++++++++++++++\n",
        "# Model 2: Multi Task Learning\n",
        "# ++++++++++++++++++++++++++++++++++++++++++++++++++++++++++++++++++++++++++++++++++++++++++++++++++\n",
        "\n",
        "# Base model\n",
        "# root = tf.keras.applications.mobilenet_v2.MobileNetV2(input_shape=(256, 256, 3), \n",
        "#                                          include_top=True, \n",
        "#                                          weights=None, \n",
        "#                                          classes=numRoadTypes)\n",
        "inputLayer = tf.keras.Input(shape=(256, 256, 3))\n",
        "mnet = tf.keras.layers.Conv2D(4, (3, 3), activation='relu', padding='same', kernel_initializer=tf.keras.initializers.he_normal())(inputLayer)\n",
        "pix5 = tf.keras.layers.Conv2D(4, (3, 3), activation='relu', padding='same', kernel_initializer=tf.keras.initializers.he_normal())(mnet)\n",
        "mnet = tf.keras.layers.MaxPool2D()(mnet)\n",
        "mnet = tf.keras.layers.Conv2D(8, (3, 3), activation='relu', padding='same', kernel_initializer=tf.keras.initializers.he_normal())(mnet)\n",
        "pix4 = tf.keras.layers.Conv2D(8, (3, 3), activation='relu', padding='same', kernel_initializer=tf.keras.initializers.he_normal())(mnet)\n",
        "mnet = tf.keras.layers.MaxPool2D()(mnet)\n",
        "mnet = tf.keras.layers.Conv2D(16, (3, 3), activation='relu', padding='same', kernel_initializer=tf.keras.initializers.he_normal())(mnet)\n",
        "pix3 = tf.keras.layers.Conv2D(16, (3, 3), activation='relu', padding='same', kernel_initializer=tf.keras.initializers.he_normal())(mnet)\n",
        "mnet = tf.keras.layers.MaxPool2D()(mnet)\n",
        "mnet = tf.keras.layers.Conv2D(32, (3, 3), activation='relu', padding='same', kernel_initializer=tf.keras.initializers.he_normal())(mnet)\n",
        "pix2 = tf.keras.layers.Conv2D(32, (3, 3), activation='relu', padding='same', kernel_initializer=tf.keras.initializers.he_normal())(mnet)\n",
        "mnet = tf.keras.layers.MaxPool2D()(mnet)\n",
        "mnet = tf.keras.layers.Conv2D(64, (3, 3), activation='relu', padding='same', kernel_initializer=tf.keras.initializers.he_normal())(mnet)\n",
        "pix1 = tf.keras.layers.Conv2D(64, (3, 3), activation='relu', padding='same', kernel_initializer=tf.keras.initializers.he_normal())(mnet)\n",
        "mnet = tf.keras.layers.Flatten()(pix1)\n",
        "mnet = tf.keras.layers.Dense(64, activation='relu')(mnet)\n",
        "pix0 = tf.keras.layers.Dense(64, activation='relu')(mnet)\n",
        "mnet = tf.keras.layers.Dense(numRoadTypes, activation='sigmoid', name='a')(pix0)\n",
        "\n",
        "# Autoencoder network\n",
        "x = tf.keras.layers.Conv2D(32, (3, 3), activation='relu', padding='same')(pix1)\n",
        "#\n",
        "x = tf.keras.layers.UpSampling2D((2, 2))(x)  # 32, 32\n",
        "x = tf.keras.layers.Conv2D(32, (3, 3), activation='relu', padding='same')(x)\n",
        "x = tf.keras.layers.concatenate([x, pix2], axis=3)\n",
        "x = tf.keras.layers.Conv2D(32, (3, 3), activation='relu', padding='same')(x)\n",
        "#\n",
        "x = tf.keras.layers.UpSampling2D((2, 2))(x)  # 64, 64\n",
        "x = tf.keras.layers.Conv2D(32, (3, 3), activation='relu', padding='same')(x)\n",
        "x = tf.keras.layers.concatenate([x, pix3], axis=3)\n",
        "x = tf.keras.layers.Conv2D(32, (3, 3), activation='relu', padding='same')(x)\n",
        "#\n",
        "x = tf.keras.layers.UpSampling2D((2, 2))(x)  # 128, 128\n",
        "x = tf.keras.layers.Conv2D(32, (3, 3), activation='relu', padding='same')(x)\n",
        "x = tf.keras.layers.concatenate([x, pix4], axis=3)\n",
        "x = tf.keras.layers.Conv2D(32, (3, 3), activation='relu', padding='same')(x)\n",
        "#\n",
        "x = tf.keras.layers.UpSampling2D((2, 2))(x)  # 256, 256\n",
        "x = tf.keras.layers.Conv2D(8, (3, 3), activation='relu', padding='same')(x)\n",
        "x = tf.keras.layers.concatenate([x, pix5], axis=3)\n",
        "x = tf.keras.layers.Conv2D(8, (3, 3), activation='relu', padding='same')(x)\n",
        "#\n",
        "x = tf.keras.layers.Conv2D(3, (3, 3), activation='relu', padding='same', name='b')(x)\n",
        "\n",
        "# Road-or-not network\n",
        "y = tf.keras.layers.Dense(1, activation='softmax', name='c')(pix0)\n",
        "\n",
        "ins = tf.keras.Input(shape=(256, 256, 3))\n",
        "outManyClass = mnet\n",
        "outReconstruct = x\n",
        "outOneClass = y \n",
        "\n",
        "# First train up model for an epoch\n",
        "net0 = tf.keras.Model(inputs=inputLayer, outputs=outManyClass)\n",
        "net0.compile(loss='categorical_crossentropy', metrics=['accuracy'], optimizer=tf.keras.optimizers.Adam(lr=1e-3, decay=1/6000))\n",
        "net0.fit_generator(generator=trainGenerator, validation_data=testGenerator, use_multiprocessing=True, workers=4, epochs=1)\n",
        "\n",
        "# Aggregate Model\n",
        "net = tf.keras.Model(inputs=inputLayer, outputs=[outManyClass, outReconstruct, outOneClass])\n",
        "net.compile(loss={'a':'categorical_crossentropy', 'b':'mse', 'c':'binary_crossentropy'},\n",
        "            optimizer=tf.keras.optimizers.Adam(lr=1e-3, decay=1/400), \n",
        "            metrics = ['accuracy'], \n",
        "            loss_weights = [1, 1e-1, 1e-2])  # play with weights\n",
        "trainGenerator = Generator(trainNames, catLabels[:trainN], BATCH_SIZE // 4, IMAGE_PATH, True)\n",
        "testGenerator = Generator(testNames, catLabels[trainN:trainN + testN], BATCH_SIZE // 4, IMAGE_PATH, True)\n",
        "net_history = net.fit_generator(generator=trainGenerator,\n",
        "                                validation_data=testGenerator,\n",
        "                                steps_per_epoch=len(trainGenerator),\n",
        "                                use_multiprocessing=True,\n",
        "                                workers=6,\n",
        "                                epochs=EPOCHS)"
      ],
      "execution_count": 0,
      "outputs": [
        {
          "output_type": "stream",
          "text": [
            "468/468 [==============================] - 91s 195ms/step - loss: 1.0918 - acc: 0.7141 - val_loss: 0.9625 - val_acc: 0.7576\n",
            "Epoch 1/15\n",
            "467/468 [============================>.] - ETA: 0s - loss: 1.0333 - a_loss: 0.9875 - b_loss: 0.0133 - c_loss: 4.4510 - a_acc: 0.7532 - b_acc: 0.5736 - c_acc: 0.7097Epoch 1/15\n",
            "468/468 [==============================] - 124s 264ms/step - loss: 1.0330 - a_loss: 0.9872 - b_loss: 0.0133 - c_loss: 4.4497 - a_acc: 0.7532 - b_acc: 0.5739 - c_acc: 0.7098 - val_loss: 1.0569 - val_a_loss: 1.0107 - val_b_loss: 0.0033 - val_c_loss: 4.5821 - val_a_acc: 0.7364 - val_b_acc: 0.6606 - val_c_acc: 0.6995\n",
            "Epoch 2/15\n",
            "467/468 [============================>.] - ETA: 0s - loss: 0.9613 - a_loss: 0.9166 - b_loss: 0.0025 - c_loss: 4.4510 - a_acc: 0.7722 - b_acc: 0.6848 - c_acc: 0.7097Epoch 1/15\n",
            "468/468 [==============================] - 116s 248ms/step - loss: 0.9619 - a_loss: 0.9172 - b_loss: 0.0025 - c_loss: 4.4497 - a_acc: 0.7724 - b_acc: 0.6848 - c_acc: 0.7098 - val_loss: 0.9726 - val_a_loss: 0.9266 - val_b_loss: 0.0020 - val_c_loss: 4.5821 - val_a_acc: 0.7692 - val_b_acc: 0.7206 - val_c_acc: 0.6995\n",
            "Epoch 3/15\n",
            "467/468 [============================>.] - ETA: 0s - loss: 0.9084 - a_loss: 0.8638 - b_loss: 0.0017 - c_loss: 4.4489 - a_acc: 0.7869 - b_acc: 0.7203 - c_acc: 0.7099Epoch 1/15\n",
            "468/468 [==============================] - 117s 251ms/step - loss: 0.9093 - a_loss: 0.8647 - b_loss: 0.0017 - c_loss: 4.4497 - a_acc: 0.7869 - b_acc: 0.7203 - c_acc: 0.7098 - val_loss: 0.9654 - val_a_loss: 0.9195 - val_b_loss: 0.0015 - val_c_loss: 4.5821 - val_a_acc: 0.7720 - val_b_acc: 0.7345 - val_c_acc: 0.6995\n",
            "Epoch 4/15\n",
            "467/468 [============================>.] - ETA: 0s - loss: 0.8432 - a_loss: 0.7985 - b_loss: 0.0014 - c_loss: 4.4551 - a_acc: 0.7990 - b_acc: 0.7405 - c_acc: 0.7094Epoch 1/15\n",
            "468/468 [==============================] - 117s 251ms/step - loss: 0.8439 - a_loss: 0.7993 - b_loss: 0.0014 - c_loss: 4.4497 - a_acc: 0.7990 - b_acc: 0.7404 - c_acc: 0.7098 - val_loss: 0.9375 - val_a_loss: 0.8916 - val_b_loss: 0.0013 - val_c_loss: 4.5821 - val_a_acc: 0.7712 - val_b_acc: 0.7453 - val_c_acc: 0.6995\n",
            "Epoch 5/15\n",
            "467/468 [============================>.] - ETA: 0s - loss: 0.7805 - a_loss: 0.7358 - b_loss: 0.0012 - c_loss: 4.4551 - a_acc: 0.8148 - b_acc: 0.7523 - c_acc: 0.7094Epoch 1/15\n",
            "468/468 [==============================] - 117s 250ms/step - loss: 0.7813 - a_loss: 0.7367 - b_loss: 0.0012 - c_loss: 4.4497 - a_acc: 0.8145 - b_acc: 0.7524 - c_acc: 0.7098 - val_loss: 1.0095 - val_a_loss: 0.9635 - val_b_loss: 0.0012 - val_c_loss: 4.5821 - val_a_acc: 0.7656 - val_b_acc: 0.7645 - val_c_acc: 0.6995\n",
            "Epoch 6/15\n",
            "467/468 [============================>.] - ETA: 0s - loss: 0.7083 - a_loss: 0.6637 - b_loss: 0.0011 - c_loss: 4.4510 - a_acc: 0.8346 - b_acc: 0.7629 - c_acc: 0.7097Epoch 1/15\n",
            "468/468 [==============================] - 118s 251ms/step - loss: 0.7079 - a_loss: 0.6633 - b_loss: 0.0011 - c_loss: 4.4497 - a_acc: 0.8348 - b_acc: 0.7628 - c_acc: 0.7098 - val_loss: 0.9851 - val_a_loss: 0.9392 - val_b_loss: 0.0011 - val_c_loss: 4.5821 - val_a_acc: 0.7672 - val_b_acc: 0.7737 - val_c_acc: 0.6995\n",
            "Epoch 7/15\n",
            "467/468 [============================>.] - ETA: 0s - loss: 0.6414 - a_loss: 0.5967 - b_loss: 0.0010 - c_loss: 4.4551 - a_acc: 0.8564 - b_acc: 0.7724 - c_acc: 0.7094Epoch 1/15\n",
            "468/468 [==============================] - 118s 251ms/step - loss: 0.6417 - a_loss: 0.5971 - b_loss: 0.0010 - c_loss: 4.4497 - a_acc: 0.8562 - b_acc: 0.7724 - c_acc: 0.7098 - val_loss: 1.0458 - val_a_loss: 0.9999 - val_b_loss: 9.9308e-04 - val_c_loss: 4.5821 - val_a_acc: 0.7672 - val_b_acc: 0.7800 - val_c_acc: 0.6995\n",
            "Epoch 8/15\n",
            "467/468 [============================>.] - ETA: 0s - loss: 0.5721 - a_loss: 0.5275 - b_loss: 9.5023e-04 - c_loss: 4.4551 - a_acc: 0.8773 - b_acc: 0.7805 - c_acc: 0.7094Epoch 1/15\n",
            "468/468 [==============================] - 118s 251ms/step - loss: 0.5729 - a_loss: 0.5283 - b_loss: 9.4999e-04 - c_loss: 4.4497 - a_acc: 0.8773 - b_acc: 0.7805 - c_acc: 0.7098 - val_loss: 1.0923 - val_a_loss: 1.0464 - val_b_loss: 9.1546e-04 - val_c_loss: 4.5821 - val_a_acc: 0.7764 - val_b_acc: 0.7891 - val_c_acc: 0.6995\n",
            "Epoch 9/15\n",
            "467/468 [============================>.] - ETA: 0s - loss: 0.5141 - a_loss: 0.4695 - b_loss: 8.8541e-04 - c_loss: 4.4489 - a_acc: 0.8936 - b_acc: 0.7877 - c_acc: 0.7099Epoch 1/15\n",
            "468/468 [==============================] - 117s 251ms/step - loss: 0.5137 - a_loss: 0.4691 - b_loss: 8.8529e-04 - c_loss: 4.4497 - a_acc: 0.8938 - b_acc: 0.7878 - c_acc: 0.7098 - val_loss: 1.1526 - val_a_loss: 1.1067 - val_b_loss: 8.5353e-04 - val_c_loss: 4.5821 - val_a_acc: 0.7592 - val_b_acc: 0.7943 - val_c_acc: 0.6995\n",
            "Epoch 10/15\n",
            "467/468 [============================>.] - ETA: 0s - loss: 0.4657 - a_loss: 0.4211 - b_loss: 8.3460e-04 - c_loss: 4.4510 - a_acc: 0.9062 - b_acc: 0.7938 - c_acc: 0.7097Epoch 1/15\n",
            "468/468 [==============================] - 118s 252ms/step - loss: 0.4663 - a_loss: 0.4218 - b_loss: 8.3476e-04 - c_loss: 4.4497 - a_acc: 0.9061 - b_acc: 0.7937 - c_acc: 0.7098 - val_loss: 1.2143 - val_a_loss: 1.1684 - val_b_loss: 8.1443e-04 - val_c_loss: 4.5821 - val_a_acc: 0.7560 - val_b_acc: 0.7934 - val_c_acc: 0.6995\n",
            "Epoch 11/15\n",
            "467/468 [============================>.] - ETA: 0s - loss: 0.4231 - a_loss: 0.3785 - b_loss: 7.9353e-04 - c_loss: 4.4489 - a_acc: 0.9176 - b_acc: 0.7991 - c_acc: 0.7099Epoch 1/15\n",
            "468/468 [==============================] - 118s 252ms/step - loss: 0.4238 - a_loss: 0.3793 - b_loss: 7.9335e-04 - c_loss: 4.4497 - a_acc: 0.9173 - b_acc: 0.7991 - c_acc: 0.7098 - val_loss: 1.2313 - val_a_loss: 1.1854 - val_b_loss: 7.8082e-04 - val_c_loss: 4.5821 - val_a_acc: 0.7480 - val_b_acc: 0.8041 - val_c_acc: 0.6995\n",
            "Epoch 12/15\n",
            "467/468 [============================>.] - ETA: 0s - loss: 0.3902 - a_loss: 0.3456 - b_loss: 7.6043e-04 - c_loss: 4.4489 - a_acc: 0.9255 - b_acc: 0.8042 - c_acc: 0.7099Epoch 1/15\n",
            "468/468 [==============================] - 118s 251ms/step - loss: 0.3896 - a_loss: 0.3450 - b_loss: 7.6083e-04 - c_loss: 4.4497 - a_acc: 0.9256 - b_acc: 0.8041 - c_acc: 0.7098 - val_loss: 1.3388 - val_a_loss: 1.2929 - val_b_loss: 7.4411e-04 - val_c_loss: 4.5821 - val_a_acc: 0.7540 - val_b_acc: 0.8122 - val_c_acc: 0.6995\n",
            "Epoch 13/15\n",
            "467/468 [============================>.] - ETA: 0s - loss: 0.3588 - a_loss: 0.3142 - b_loss: 7.2986e-04 - c_loss: 4.4489 - a_acc: 0.9304 - b_acc: 0.8089 - c_acc: 0.7099Epoch 1/15\n",
            "468/468 [==============================] - 118s 251ms/step - loss: 0.3586 - a_loss: 0.3140 - b_loss: 7.2989e-04 - c_loss: 4.4497 - a_acc: 0.9306 - b_acc: 0.8089 - c_acc: 0.7098 - val_loss: 1.3794 - val_a_loss: 1.3335 - val_b_loss: 7.1853e-04 - val_c_loss: 4.5821 - val_a_acc: 0.7532 - val_b_acc: 0.8140 - val_c_acc: 0.6995\n",
            "Epoch 14/15\n",
            "467/468 [============================>.] - ETA: 0s - loss: 0.3306 - a_loss: 0.2860 - b_loss: 7.0511e-04 - c_loss: 4.4530 - a_acc: 0.9378 - b_acc: 0.8135 - c_acc: 0.7096Epoch 1/15\n",
            "468/468 [==============================] - 118s 252ms/step - loss: 0.3305 - a_loss: 0.2859 - b_loss: 7.0532e-04 - c_loss: 4.4497 - a_acc: 0.9379 - b_acc: 0.8134 - c_acc: 0.7098 - val_loss: 1.4765 - val_a_loss: 1.4307 - val_b_loss: 6.9141e-04 - val_c_loss: 4.5821 - val_a_acc: 0.7508 - val_b_acc: 0.8181 - val_c_acc: 0.6995\n",
            "Epoch 15/15\n",
            "467/468 [============================>.] - ETA: 0s - loss: 0.3090 - a_loss: 0.2644 - b_loss: 6.8288e-04 - c_loss: 4.4510 - a_acc: 0.9415 - b_acc: 0.8172 - c_acc: 0.7097Epoch 1/15\n",
            "468/468 [==============================] - 117s 250ms/step - loss: 0.3092 - a_loss: 0.2647 - b_loss: 6.8296e-04 - c_loss: 4.4497 - a_acc: 0.9412 - b_acc: 0.8172 - c_acc: 0.7098 - val_loss: 1.4932 - val_a_loss: 1.4474 - val_b_loss: 6.7179e-04 - val_c_loss: 4.5821 - val_a_acc: 0.7356 - val_b_acc: 0.8224 - val_c_acc: 0.6995\n"
          ],
          "name": "stdout"
        }
      ]
    },
    {
      "cell_type": "code",
      "metadata": {
        "id": "p7jDN2omCkn7",
        "colab_type": "code",
        "colab": {}
      },
      "source": [
        "NET_JSON = os.path.join(DATA_PATH, 'net_architecture.json')\n",
        "model_json = net.to_json()y\n",
        "with open(NET_JSON, \"w\") as json_file:\n",
        "    json_file.write(model_json)\n",
        "#\n",
        "NET_WEIGHTS = os.path.join(DATA_PATH, 'net_weights.h5')\n",
        "net.save_weights(NET_WEIGHTS)"
      ],
      "execution_count": 0,
      "outputs": []
    },
    {
      "cell_type": "code",
      "metadata": {
        "id": "zyTclakpo0C3",
        "colab_type": "code",
        "outputId": "c16dc41d-1c2e-4fb8-f602-08480213cc52",
        "colab": {
          "base_uri": "https://localhost:8080/",
          "height": 158
        }
      },
      "source": [
        "pred = net.predict_generator(testGenerator, steps=len(testGenerator), verbose=1)"
      ],
      "execution_count": 0,
      "outputs": [
        {
          "output_type": "error",
          "ename": "NameError",
          "evalue": "ignored",
          "traceback": [
            "\u001b[0;31m---------------------------------------------------------------------------\u001b[0m",
            "\u001b[0;31mNameError\u001b[0m                                 Traceback (most recent call last)",
            "\u001b[0;32m<ipython-input-1-4955946436d4>\u001b[0m in \u001b[0;36m<module>\u001b[0;34m()\u001b[0m\n\u001b[0;32m----> 1\u001b[0;31m \u001b[0mpred\u001b[0m \u001b[0;34m=\u001b[0m \u001b[0mnet\u001b[0m\u001b[0;34m.\u001b[0m\u001b[0mpredict_generator\u001b[0m\u001b[0;34m(\u001b[0m\u001b[0mtestGenerator\u001b[0m\u001b[0;34m,\u001b[0m \u001b[0msteps\u001b[0m\u001b[0;34m=\u001b[0m\u001b[0mlen\u001b[0m\u001b[0;34m(\u001b[0m\u001b[0mtestGenerator\u001b[0m\u001b[0;34m)\u001b[0m\u001b[0;34m,\u001b[0m \u001b[0mverbose\u001b[0m\u001b[0;34m=\u001b[0m\u001b[0;36m1\u001b[0m\u001b[0;34m)\u001b[0m\u001b[0;34m\u001b[0m\u001b[0;34m\u001b[0m\u001b[0m\n\u001b[0m",
            "\u001b[0;31mNameError\u001b[0m: name 'net' is not defined"
          ]
        }
      ]
    },
    {
      "cell_type": "code",
      "metadata": {
        "id": "z6BKCxSap-r0",
        "colab_type": "code",
        "colab": {}
      },
      "source": [
        ""
      ],
      "execution_count": 0,
      "outputs": []
    },
    {
      "cell_type": "code",
      "metadata": {
        "id": "OMnbPITA3G_X",
        "colab_type": "code",
        "colab": {}
      },
      "source": [
        ""
      ],
      "execution_count": 0,
      "outputs": []
    }
  ]
}